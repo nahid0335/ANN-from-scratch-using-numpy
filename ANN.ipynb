{
  "nbformat": 4,
  "nbformat_minor": 0,
  "metadata": {
    "colab": {
      "name": "ANN.ipynb",
      "provenance": [],
      "collapsed_sections": [],
      "authorship_tag": "ABX9TyN/rmWR265zzm+cogHZzGv1",
      "include_colab_link": true
    },
    "kernelspec": {
      "name": "python3",
      "display_name": "Python 3"
    },
    "language_info": {
      "name": "python"
    },
    "accelerator": "GPU"
  },
  "cells": [
    {
      "cell_type": "markdown",
      "metadata": {
        "id": "view-in-github",
        "colab_type": "text"
      },
      "source": [
        "<a href=\"https://colab.research.google.com/github/nahid0335/ANN-from-scratch-using-numpy/blob/main/ANN.ipynb\" target=\"_parent\"><img src=\"https://colab.research.google.com/assets/colab-badge.svg\" alt=\"Open In Colab\"/></a>"
      ]
    },
    {
      "cell_type": "markdown",
      "metadata": {
        "id": "tOlINhnnuXu8"
      },
      "source": [
        "# **Import Library**"
      ]
    },
    {
      "cell_type": "code",
      "metadata": {
        "id": "9GkQPtaJuMUE"
      },
      "source": [
        "from sklearn.datasets import fetch_openml\n",
        "from keras.utils.np_utils import to_categorical\n",
        "import numpy as np\n",
        "from sklearn.model_selection import train_test_split\n",
        "import time\n",
        "import copy"
      ],
      "execution_count": 1,
      "outputs": []
    },
    {
      "cell_type": "markdown",
      "metadata": {
        "id": "7a0TJtvCu0hb"
      },
      "source": [
        "# **Load Dataset**"
      ]
    },
    {
      "cell_type": "code",
      "metadata": {
        "id": "n0b-YgGUukYZ"
      },
      "source": [
        "x, y = fetch_openml('mnist_784', version=1, return_X_y=True)\n",
        "x = (x/255).astype('float32')\n",
        "y = to_categorical(y)"
      ],
      "execution_count": 2,
      "outputs": []
    },
    {
      "cell_type": "code",
      "metadata": {
        "id": "VT0ExigE6Ai3"
      },
      "source": [
        "x = x.to_numpy()\n",
        "x_train, x_val, y_train, y_val = train_test_split(x, y, test_size=0.15, random_state=42)"
      ],
      "execution_count": 3,
      "outputs": []
    },
    {
      "cell_type": "code",
      "metadata": {
        "id": "TifIxK4rv8_X"
      },
      "source": [
        "class DeepNeuralNetwork():\n",
        "    def __init__(self, sizes, epochs=10, l_rate=0.001):\n",
        "        self.sizes = sizes\n",
        "        self.epochs = epochs\n",
        "        self.l_rate = l_rate\n",
        "        # save all parameters in the neural network in this dictionary\n",
        "        self.params = self.initialization()\n",
        "\n",
        "\n",
        "    def sigmoid(self, x, derivative=False):\n",
        "        if derivative:\n",
        "            return (np.exp(-x))/((np.exp(-x)+1)**2)\n",
        "        return 1/(1 + np.exp(-x))\n",
        "\n",
        "\n",
        "    def softmax(self, x, derivative=False):\n",
        "        exps = np.exp(x - x.max())\n",
        "        if derivative:\n",
        "            return exps / np.sum(exps, axis=0) * (1 - exps / np.sum(exps, axis=0))\n",
        "        return exps / np.sum(exps, axis=0)\n",
        "\n",
        "\n",
        "    def initialization(self):\n",
        "        # number of nodes in each layer\n",
        "        input_layer=self.sizes[0]\n",
        "        hidden_1=self.sizes[1]\n",
        "        hidden_2=self.sizes[2]\n",
        "        output_layer=self.sizes[3]\n",
        "\n",
        "        params = {\n",
        "            'W1':np.random.randn(hidden_1, input_layer) * np.sqrt(1. / hidden_1),\n",
        "            'W2':np.random.randn(hidden_2, hidden_1) * np.sqrt(1. / hidden_2),\n",
        "            'W3':np.random.randn(output_layer, hidden_2) * np.sqrt(1. / output_layer)\n",
        "        }\n",
        "        return params\n",
        "\n",
        "\n",
        "    def forward_pass(self, x_train):\n",
        "        params = self.params\n",
        "\n",
        "        # input layer activations becomes sample\n",
        "        params['A0'] = x_train\n",
        "        #print(params[\"W1\"])\n",
        "        #print(params['A0'])\n",
        "        # input layer to hidden layer 1\n",
        "        params['Z1'] = np.dot(params[\"W1\"], params['A0'])\n",
        "        params['A1'] = self.sigmoid(params['Z1'])\n",
        "\n",
        "        # hidden layer 1 to hidden layer 2\n",
        "        params['Z2'] = np.dot(params[\"W2\"], params['A1'])\n",
        "        params['A2'] = self.sigmoid(params['Z2'])\n",
        "\n",
        "        # hidden layer 2 to output layer\n",
        "        params['Z3'] = np.dot(params[\"W3\"], params['A2'])\n",
        "        params['A3'] = self.softmax(params['Z3'])\n",
        "\n",
        "        return params['A3']\n",
        "\n",
        "\n",
        "    def backward_pass(self, y_train, output):\n",
        "        params = self.params\n",
        "        change_w = {}\n",
        "\n",
        "        # Calculate W3 update\n",
        "        error = 2 * (output - y_train) / output.shape[0] * self.softmax(params['Z3'], derivative=True)\n",
        "        change_w['W3'] = np.outer(error, params['A2'])\n",
        "\n",
        "        # Calculate W2 update\n",
        "        error = np.dot(params['W3'].T, error) * self.sigmoid(params['Z2'], derivative=True)\n",
        "        change_w['W2'] = np.outer(error, params['A1'])\n",
        "\n",
        "        # Calculate W1 update\n",
        "        error = np.dot(params['W2'].T, error) * self.sigmoid(params['Z1'], derivative=True)\n",
        "        change_w['W1'] = np.outer(error, params['A0'])\n",
        "\n",
        "        return change_w\n",
        "\n",
        "\n",
        "    def update_network_parameters(self, changes_to_w):\n",
        "        for key, value in changes_to_w.items():\n",
        "            self.params[key] -= self.l_rate * value\n",
        "\n",
        "\n",
        "    def compute_accuracy(self, x_val, y_val):\n",
        "        predictions = []\n",
        "        for x, y in zip(x_val, y_val):\n",
        "            output = self.forward_pass(x)\n",
        "            pred = np.argmax(output)\n",
        "            predictions.append(pred == np.argmax(y))\n",
        "        \n",
        "        return np.mean(predictions)\n",
        "\n",
        "\n",
        "\n",
        "    def train(self, x_train, y_train, x_val, y_val):\n",
        "        start_time = time.time()\n",
        "        for iteration in range(self.epochs):\n",
        "            for x,y in zip(x_train, y_train):\n",
        "                output = self.forward_pass(x)\n",
        "                changes_to_w = self.backward_pass(y, output)\n",
        "                self.update_network_parameters(changes_to_w)\n",
        "            \n",
        "            accuracy = self.compute_accuracy(x_val, y_val)\n",
        "            print('Epoch: {0}, Time Spent: {1:.2f}s, Accuracy: {2:.2f}%'.format(\n",
        "                iteration+1, time.time() - start_time, accuracy * 100\n",
        "            ))"
      ],
      "execution_count": 4,
      "outputs": []
    },
    {
      "cell_type": "code",
      "metadata": {
        "id": "W94fKO6E0yTc"
      },
      "source": [
        "dnn = DeepNeuralNetwork(sizes=[784, 128, 64, 10],epochs=50,l_rate=0.001)"
      ],
      "execution_count": 5,
      "outputs": []
    },
    {
      "cell_type": "code",
      "metadata": {
        "colab": {
          "base_uri": "https://localhost:8080/"
        },
        "id": "dJjdASXf00X3",
        "outputId": "e7fd35cd-0108-4e0d-c397-59f6ec8886fb"
      },
      "source": [
        "dnn.train(x_train, y_train, x_val, y_val)"
      ],
      "execution_count": 6,
      "outputs": [
        {
          "output_type": "stream",
          "name": "stdout",
          "text": [
            "Epoch: 1, Time Spent: 61.35s, Accuracy: 22.11%\n",
            "Epoch: 2, Time Spent: 122.72s, Accuracy: 27.51%\n",
            "Epoch: 3, Time Spent: 183.85s, Accuracy: 28.29%\n",
            "Epoch: 4, Time Spent: 245.37s, Accuracy: 31.53%\n",
            "Epoch: 5, Time Spent: 307.11s, Accuracy: 35.27%\n",
            "Epoch: 6, Time Spent: 368.31s, Accuracy: 39.23%\n",
            "Epoch: 7, Time Spent: 429.62s, Accuracy: 42.90%\n",
            "Epoch: 8, Time Spent: 490.96s, Accuracy: 45.91%\n",
            "Epoch: 9, Time Spent: 552.65s, Accuracy: 49.04%\n",
            "Epoch: 10, Time Spent: 614.14s, Accuracy: 52.43%\n",
            "Epoch: 11, Time Spent: 675.50s, Accuracy: 55.15%\n",
            "Epoch: 12, Time Spent: 736.72s, Accuracy: 57.17%\n",
            "Epoch: 13, Time Spent: 798.10s, Accuracy: 58.75%\n",
            "Epoch: 14, Time Spent: 859.58s, Accuracy: 60.19%\n",
            "Epoch: 15, Time Spent: 921.07s, Accuracy: 61.43%\n",
            "Epoch: 16, Time Spent: 982.69s, Accuracy: 62.53%\n",
            "Epoch: 17, Time Spent: 1044.33s, Accuracy: 63.37%\n",
            "Epoch: 18, Time Spent: 1105.42s, Accuracy: 64.08%\n",
            "Epoch: 19, Time Spent: 1166.51s, Accuracy: 64.66%\n",
            "Epoch: 20, Time Spent: 1227.76s, Accuracy: 65.26%\n",
            "Epoch: 21, Time Spent: 1289.37s, Accuracy: 65.70%\n",
            "Epoch: 22, Time Spent: 1350.96s, Accuracy: 66.13%\n",
            "Epoch: 23, Time Spent: 1412.39s, Accuracy: 66.50%\n",
            "Epoch: 24, Time Spent: 1473.66s, Accuracy: 66.92%\n",
            "Epoch: 25, Time Spent: 1535.48s, Accuracy: 67.32%\n",
            "Epoch: 26, Time Spent: 1597.01s, Accuracy: 67.62%\n",
            "Epoch: 27, Time Spent: 1658.59s, Accuracy: 67.99%\n",
            "Epoch: 28, Time Spent: 1720.29s, Accuracy: 68.35%\n",
            "Epoch: 29, Time Spent: 1781.58s, Accuracy: 68.82%\n",
            "Epoch: 30, Time Spent: 1842.69s, Accuracy: 69.31%\n",
            "Epoch: 31, Time Spent: 1903.68s, Accuracy: 69.80%\n",
            "Epoch: 32, Time Spent: 1964.45s, Accuracy: 70.21%\n",
            "Epoch: 33, Time Spent: 2025.08s, Accuracy: 70.70%\n",
            "Epoch: 34, Time Spent: 2085.50s, Accuracy: 71.30%\n",
            "Epoch: 35, Time Spent: 2145.88s, Accuracy: 71.62%\n",
            "Epoch: 36, Time Spent: 2206.50s, Accuracy: 71.99%\n",
            "Epoch: 37, Time Spent: 2267.22s, Accuracy: 72.29%\n",
            "Epoch: 38, Time Spent: 2328.19s, Accuracy: 72.58%\n",
            "Epoch: 39, Time Spent: 2389.03s, Accuracy: 72.85%\n",
            "Epoch: 40, Time Spent: 2449.68s, Accuracy: 72.95%\n",
            "Epoch: 41, Time Spent: 2510.40s, Accuracy: 73.12%\n",
            "Epoch: 42, Time Spent: 2571.12s, Accuracy: 73.48%\n",
            "Epoch: 43, Time Spent: 2632.07s, Accuracy: 73.70%\n",
            "Epoch: 44, Time Spent: 2693.10s, Accuracy: 73.89%\n",
            "Epoch: 45, Time Spent: 2754.14s, Accuracy: 74.04%\n",
            "Epoch: 46, Time Spent: 2815.11s, Accuracy: 74.31%\n",
            "Epoch: 47, Time Spent: 2876.19s, Accuracy: 74.49%\n",
            "Epoch: 48, Time Spent: 2937.11s, Accuracy: 74.53%\n",
            "Epoch: 49, Time Spent: 2997.85s, Accuracy: 74.64%\n",
            "Epoch: 50, Time Spent: 3058.17s, Accuracy: 74.78%\n"
          ]
        }
      ]
    }
  ]
}